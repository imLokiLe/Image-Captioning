{
 "cells": [
  {
   "attachments": {},
   "cell_type": "markdown",
   "metadata": {},
   "source": [
    "Bài toán:\n",
    "Sentiment analysis of movie reviews (overview)\n",
    "\n",
    "Input: Review về một bộ phim từ nhà phê bình/ người xem\n",
    "\n",
    "Output:Phân loại reviews đó mang tính tiêu cực hay tích cực\n",
    "\n",
    "Metrics:\n",
    "Precision\n",
    "Recall\n",
    "F1-score\n",
    "\n",
    "Ứng dụng: Đánh giá bộ phim có đáng xem hay không ứng dụng trong các mô hình Recommendation\n",
    "\n",
    "Dataset: \n",
    "\n",
    "Tên: Movie_Review\n",
    "\n",
    "Nguồn: được thu thập từ việc crawl reviews từ IMDb và Rotten Tomatoes\n",
    "\n",
    "Feature engineering (quy trình xử lý dữ liệu - preprocessing): \n",
    "Crawl data → Label data → Preprocessing data → Train data → Evaluation\n",
    "\n",
    "Models: \n",
    "Logistic Regression\n",
    "SVM\n",
    "Naive Bayes\n"
   ]
  }
 ],
 "metadata": {
  "language_info": {
   "name": "python"
  },
  "orig_nbformat": 4
 },
 "nbformat": 4,
 "nbformat_minor": 2
}
